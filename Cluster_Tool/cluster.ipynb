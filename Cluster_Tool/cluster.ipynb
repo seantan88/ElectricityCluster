{
 "cells": [
  {
   "cell_type": "markdown",
   "metadata": {},
   "source": [
    "### **Cluster Analysis Tool**"
   ]
  },
  {
   "cell_type": "markdown",
   "metadata": {},
   "source": [
    "***Author: Sean Honour Tan (UCID: 30094560)***"
   ]
  },
  {
   "cell_type": "markdown",
   "metadata": {},
   "source": [
    " ### Import necessary packages"
   ]
  },
  {
   "cell_type": "code",
   "execution_count": 1,
   "metadata": {},
   "outputs": [],
   "source": [
    "from sklearn.cluster import KMeans\n",
    "import numpy as np\n",
    "import matplotlib.pyplot as plt\n",
    "import pandas as pd\n",
    "import seaborn as sns\n",
    "import json\n",
    "import requests\n",
    "import datetime\n",
    "import time\n",
    "from IPython.display import display\n",
    "import plotly.express as px\n",
    "import plotly.graph_objs as go"
   ]
  },
  {
   "cell_type": "markdown",
   "metadata": {},
   "source": [
    "### Acquire Data"
   ]
  },
  {
   "cell_type": "code",
   "execution_count": 2,
   "metadata": {},
   "outputs": [
    {
     "name": "stdout",
     "output_type": "stream",
     "text": [
      "Start date: 2023-05-01\n",
      "End date: 2023-05-31\n",
      "Desired generator types: ['GAS']\n",
      "request 1 successful (date: 2023-05-01)\n",
      "request 2 successful (date: 2023-05-02)\n",
      "request 3 successful (date: 2023-05-03)\n",
      "request 4 successful (date: 2023-05-04)\n",
      "request 5 successful (date: 2023-05-05)\n",
      "request 6 successful (date: 2023-05-06)\n",
      "request 7 successful (date: 2023-05-07)\n",
      "request 8 successful (date: 2023-05-08)\n",
      "request 9 successful (date: 2023-05-09)\n",
      "request 10 successful (date: 2023-05-10)\n",
      "request 11 successful (date: 2023-05-11)\n",
      "request 12 successful (date: 2023-05-12)\n",
      "request 13 successful (date: 2023-05-13)\n",
      "request 14 successful (date: 2023-05-14)\n",
      "request 15 successful (date: 2023-05-15)\n",
      "request 16 successful (date: 2023-05-16)\n",
      "request 17 successful (date: 2023-05-17)\n",
      "request 18 successful (date: 2023-05-18)\n",
      "request 19 successful (date: 2023-05-19)\n",
      "request 20 successful (date: 2023-05-20)\n",
      "request 21 successful (date: 2023-05-21)\n",
      "request 22 successful (date: 2023-05-22)\n",
      "request 23 successful (date: 2023-05-23)\n",
      "request 24 successful (date: 2023-05-24)\n",
      "request 25 successful (date: 2023-05-25)\n",
      "request 26 successful (date: 2023-05-26)\n",
      "request 27 successful (date: 2023-05-27)\n",
      "request 28 successful (date: 2023-05-28)\n",
      "request 29 successful (date: 2023-05-29)\n",
      "request 30 successful (date: 2023-05-30)\n",
      "request 31 successful (date: 2023-05-31)\n"
     ]
    }
   ],
   "source": [
    "def get_data():\n",
    "    # Prompt user for desired timeframe \n",
    "    start_input = input('Enter the start date in the format YYYY-MM-DD: ')\n",
    "    end_input = input('Enter the end date in the format YYYY-MM-DD: ')\n",
    "    try:\n",
    "        #convert inputs to datetime object of format YYYY-MM-DD\n",
    "        start_date = datetime.datetime.strptime(start_input, '%Y-%m-%d').date()\n",
    "        end_date = datetime.datetime.strptime(end_input, '%Y-%m-%d').date()\n",
    "    except:\n",
    "        print('Invalid date format. Please enter the date in the format YYYY-MM-DD')\n",
    "\n",
    "    desired_types = input('Enter the desired generator types, separated by a space: ').split()\n",
    "\n",
    "    print('Start date: ' + str(start_date))\n",
    "    print('End date: ' + str(end_date))\n",
    "    print('Desired generator types: ' + str(desired_types))\n",
    "\n",
    "    # pull the asset list from the AESO API \n",
    "    # initialize api url   \n",
    "    asset_url = 'https://api.aeso.ca/report/v1/csd/generation/assets/current'\n",
    "    # initialize requests header, including valid API key ** INSERT API KEY HERE **\n",
    "    AESO_header = {'accept': 'application/json' , 'X-API-Key': 'INSERT API KEY HERE'}\n",
    "    # request data from AESO API, load the JSON\n",
    "    res = requests.get(asset_url, headers = AESO_header)\n",
    "    data = json.loads(res.text)\n",
    "\n",
    "    # convert the JSON data into a dataframe\n",
    "    json_asset_df = pd.json_normalize(data)\n",
    "\n",
    "    # extract the 'asset_list' column from the dataframe\n",
    "    asset_df = json_asset_df.loc[0, 'return.asset_list']\n",
    "    # convert the 'asset_list' column into a dataframe\n",
    "    asset_df = pd.DataFrame(asset_df)\n",
    "\n",
    "    # rename the 'asset' column to 'asset_ID'\n",
    "    asset_df.rename(columns = {'asset': 'asset_ID'}, inplace = True)\n",
    "\n",
    "    # save the asset_df to a csv file\n",
    "    asset_df.to_csv('generator_type.csv')\n",
    "\n",
    "    # read in generator type csv in order to trim down the data according to user input\n",
    "    generator_list = pd.read_csv('generator_type.csv')\n",
    "    \n",
    "\n",
    "\n",
    "    #initialize variables and master dataframe\n",
    "    count = 1\n",
    "    t = 1\n",
    "    master_df = pd.DataFrame()\n",
    "    date = start_date\n",
    "    #iterate through the dates\n",
    "    while date <= end_date:\n",
    "        \n",
    "        # initialize api url with changeable dates\n",
    "        api_url = f'https://api.aeso.ca/report/v1/meritOrder/energy?startDate={date}'\n",
    "\n",
    "        # initialize requests header, including valid API key ** INSERT API KEY HERE **\n",
    "        AESO_header = {'accept': 'application/json' , 'X-API-Key': 'INSERT API KEY HERE'}\n",
    "\n",
    "        # request data from AESO API, load the JSON\n",
    "        res = requests.get(api_url, headers = AESO_header)\n",
    "        data = json.loads(res.text)\n",
    "\n",
    "        # normalize the JSON data into flat table\n",
    "        df1 = pd.json_normalize(data)\n",
    "\n",
    "\n",
    "        # get list of dictionaries from df\n",
    "        df1_list = df1.loc[0, 'return.data']\n",
    "\n",
    "        # convert list of dictionaries into readable and clean dataframe ready for usage\n",
    "        df2 = pd.DataFrame(df1_list)\n",
    "\n",
    "        # concatenate dataframe into master dataframe\n",
    "        master_df = pd.concat([master_df,df2], axis=0, ignore_index =True)\n",
    "        # print successful request message\n",
    "        print('request ' + str(count) + ' successful (date: ' + str(date) + ')')\n",
    "        # increment date and count for next get request\n",
    "        date = date + datetime.timedelta(days=1)\n",
    "        count +=1\n",
    "        # wait 1 second before next request\n",
    "        time.sleep(t)\n",
    "\n",
    "    # create empty dataframe to store daily data\n",
    "    daily_master_df = pd.DataFrame()\n",
    "\n",
    "    # iterate through the master dataframe\n",
    "    for index, row in master_df.iterrows():\n",
    "        # if the row contains 'energy_blocks' and it is a list\n",
    "        if 'energy_blocks' in row and isinstance(row['energy_blocks'], list):\n",
    "            # Create a temporary dataframe from the 'energy_blocks' list\n",
    "            df_temp = pd.DataFrame(row['energy_blocks'])\n",
    "            # Attach the timestamp from df2 to df_temp\n",
    "            df_temp['begin_dateTime_mpt'] = row['begin_dateTime_mpt'] \n",
    "            # Concatenate the temporary dataframe to the daily_master_df \n",
    "            daily_master_df = pd.concat([daily_master_df, df_temp], axis=0, ignore_index=True)\n",
    "\n",
    "    # Ensure generator_list['fuel_type'] is ready for case-insensitive comparison\n",
    "    generator_list['fuel_type'] = generator_list['fuel_type'].str.lower()\n",
    "    desired_types = [x.lower() for x in desired_types]  # Convert desired_types to lower case for case-insensitive match\n",
    "\n",
    "    # Filter daily_master_df based on desired generator types\n",
    "    if desired_types:\n",
    "        # Pre-filter generator_list to include only rows with desired fuel_types\n",
    "        desired_generators = generator_list[generator_list['fuel_type'].isin(desired_types)]\n",
    "        \n",
    "        # Use isin to filter daily_master_df rows where asset_ID is in desired_generators\n",
    "        filtered_daily_master_df = daily_master_df[daily_master_df['asset_ID'].isin(desired_generators['asset_ID'])]\n",
    "        \n",
    "        # Check if the filtered dataframe is not empty\n",
    "        if not filtered_daily_master_df.empty:\n",
    "            daily_master_df = filtered_daily_master_df\n",
    "        else:\n",
    "            print(\"No matching generator types found. Returning all data.\")\n",
    "    else:\n",
    "        print(\"No desired generator types specified. Returning all data.\")\n",
    "\n",
    "\n",
    "\n",
    "\n",
    "\n",
    "\n",
    "\n",
    "    # convert columns with (Y/N) to 1/0, and remove '?' from column names\n",
    "    daily_master_df['dispatched'] = daily_master_df['dispatched?'].map({'Y': 1, 'N': 0})\n",
    "    daily_master_df['flexible'] = daily_master_df['flexible?'].map({'Y': 1, 'N': 0})\n",
    "    daily_master_df = daily_master_df[['begin_dateTime_mpt','import_or_export' ,'asset_ID' , 'block_number' , 'block_price', 'from_MW', 'to_MW', 'block_size', 'available_MW','dispatched','dispatched_MW','flexible','offer_control']]\n",
    "\n",
    "    # save the daily_master_df to a csv file\n",
    "    daily_master_df.to_csv('daily_master_df.csv')\n",
    "\n",
    "\n",
    "\n",
    "\n",
    "get_data()\n",
    "daily_master_df = pd.read_csv('daily_master_df.csv')\n"
   ]
  },
  {
   "cell_type": "markdown",
   "metadata": {},
   "source": [
    "### Define Elbow, Clustering, and Metric Table Functions"
   ]
  },
  {
   "cell_type": "code",
   "execution_count": 3,
   "metadata": {},
   "outputs": [],
   "source": [
    "def elbow_method(df, features):\n",
    "    # perform the elbow method to determine the optimal number of clusters\n",
    "    # create a list of inertia values for each number of clusters\n",
    "    inertia = []\n",
    "    # loop through the number of clusters from 1 to 10\n",
    "    for i in range(1, 11):\n",
    "        # create a kmeans model\n",
    "        kmeans = KMeans(n_clusters = i, init = 'k-means++', max_iter = 300, n_init = 10, random_state = 0)\n",
    "        # fit the model to the features, let number of features be to be fit be the number of elements in the features list\n",
    "        kmeans.fit(df[features])\n",
    "        # append the inertia value to the list\n",
    "        inertia.append(kmeans.inertia_)\n",
    "\n",
    "    fig = go.Figure()\n",
    "\n",
    "    # Add the line plot for inertia values\n",
    "    fig.add_trace(go.Scatter(x=list(range(1, 11)), y=inertia,\n",
    "                            mode='lines+markers',\n",
    "                            name='Inertia'))\n",
    "\n",
    "    # Add labels and title\n",
    "    fig.update_layout(title='Elbow Method',\n",
    "                      width=950,\n",
    "                    xaxis_title='Number of clusters',\n",
    "                    yaxis_title='Inertia',\n",
    "                    xaxis=dict(tickmode='linear'))\n",
    "\n",
    "    # Show the plot\n",
    "    fig.show()\n",
    "\n",
    "\n",
    "# function to determine the ratio of dispatched to non-dispatched generator bids in each cluster. show the ratio in fraction form.\n",
    "def dispatched_ratio(df):\n",
    "    \n",
    "    # create a new dataframe to store the cluster ratios\n",
    "    dispatched_ratios = pd.DataFrame()\n",
    "    # loop through the clusters\n",
    "    for i in range(df['cluster'].nunique()):\n",
    "        # calculate the size of the dispatched and non-dispatched bids in the cluster\n",
    "        dispatched = df[(df['cluster'] == i) & (df['dispatched'] == 1)].shape[0]\n",
    "        non_dispatched = df[(df['cluster'] == i) & (df['dispatched'] == 0)].shape[0]\n",
    "        # calculate the ratio of dispatched to non-dispatched bids\n",
    "        ratio = dispatched / non_dispatched\n",
    "        # add the ratio to the dataframe\n",
    "        dispatched_ratios = dispatched_ratios._append(pd.DataFrame({'cluster': [i], 'ratio': [ratio]}))\n",
    "    # return the dataframe\n",
    "    return display(dispatched_ratios)\n",
    "\n",
    "# function to generate a table of the cluster means, and average block price and block size for each cluster, as well as variance of block price and block size.\n",
    "def cluster_means_variances(df, features):\n",
    "    # Create a new dataframe to store the cluster means and variances\n",
    "    cluster_stats = pd.DataFrame()\n",
    "    \n",
    "    # Loop through the clusters\n",
    "    for i in df['cluster'].unique():\n",
    "        cluster_data = df[df['cluster'] == i]\n",
    "        stats = {'cluster': i}\n",
    "        \n",
    "        # Calculate means and variances for each feature, if the feature is block price, weight the means and the variance by the block size\n",
    "        for feature in features:\n",
    "            if feature == 'block_price':\n",
    "                stats[f'{feature}_mean'] = np.average(cluster_data[feature], weights=cluster_data['block_size'])\n",
    "                stats[f'{feature}_variance'] = np.average((cluster_data[feature] - stats[f'{feature}_mean'])**2, weights=cluster_data['block_size'])\n",
    "            else:\n",
    "                stats[f'mean_{feature}'] = cluster_data[feature].mean()\n",
    "                stats[f'var_{feature}'] = cluster_data[feature].var()\n",
    "            \n",
    "        # Append the stats to the cluster_stats dataframe\n",
    "        cluster_stats = cluster_stats._append(stats, ignore_index=True)\n",
    "        \n",
    "    # Ensure the 'cluster' column is of integer type\n",
    "    cluster_stats['cluster'] = cluster_stats['cluster'].astype(int)\n",
    "    \n",
    "    return display(cluster_stats)\n",
    "\n",
    "# function to generate a table of the cluster sizes\n",
    "def cluster_sizes(df):\n",
    "    # create a new dataframe to store the cluster sizes\n",
    "    cluster_sizes = pd.DataFrame()\n",
    "    # loop through the clusters\n",
    "    for i in range(df['cluster'].nunique()):\n",
    "        # calculate the size of the cluster\n",
    "        cluster_size = df[df['cluster'] == i].shape[0]\n",
    "        # add the cluster size to the dataframe\n",
    "        cluster_sizes = cluster_sizes._append(pd.DataFrame({'cluster': [i], 'size': [cluster_size]}))\n",
    "    # return the dataframe\n",
    "    return display(cluster_sizes)\n",
    "\n",
    "# function to generate table of centroid values\n",
    "def cluster_centroids(df, features):\n",
    "    # Create a new DataFrame to store the cluster centroids\n",
    "    cluster_centroids = pd.DataFrame(columns=['centroid'] + features)\n",
    "    \n",
    "    # Loop through the clusters\n",
    "    for i in df['cluster'].unique():\n",
    "        # Calculate the centroid of the cluster\n",
    "        cluster_centroid = df[df['cluster'] == i][features].mean()\n",
    "        # Build a row dictionary dynamically including all features\n",
    "        row = {'centroid': [i]}\n",
    "        for feature, value in zip(features, cluster_centroid):\n",
    "            row[feature] = value\n",
    "        # Append the row to the DataFrame\n",
    "        cluster_centroids = cluster_centroids._append(row, ignore_index=True)\n",
    "    \n",
    "    # Display the DataFrame\n",
    "    return display(cluster_centroids)\n",
    "\n",
    "#function to display a table of the assets in each cluster\n",
    "def cluster_assets(df):\n",
    "    # Loop through the clusters\n",
    "    for i in df['cluster'].unique():\n",
    "        # Create a new DataFrame for the cluster\n",
    "        cluster_df = df[df['cluster'] == i]\n",
    "        # Display the cluster number\n",
    "        print(f'Cluster {i}')\n",
    "        # Display the cluster DataFrame\n",
    "        display(cluster_df[['asset_ID']])\n",
    "        print('\\n')\n",
    "    \n",
    "\n",
    "# function to plot the clusters and display the cluster statistics\n",
    "def kmeans_cluster(df, features, nclusters, labels, title):\n",
    "    # fit the kmeans model to the features, using 3 clusters\n",
    "    kmeans = KMeans(n_clusters = nclusters, init = 'k-means++', max_iter = 300, n_init = 10, random_state = 0)\n",
    "    # fit the model to the features\n",
    "    kmeans.fit(df[features])\n",
    "    # add a new column to df3 that contains the cluster labels\n",
    "    df['cluster'] = kmeans.labels_\n",
    "\n",
    "    if len(features) == 2:\n",
    "        # Create a 2D scatter plot for clusters using Plotly Express\n",
    "        fig = px.scatter(df, x=features[0], y=features[1], color='cluster',\n",
    "                        color_continuous_scale='jet', labels={'cluster': 'Cluster'}, hover_data=['asset_ID'])\n",
    "\n",
    "        # Add centroids to the plot using Plotly Graph Objects\n",
    "        centroids = kmeans.cluster_centers_\n",
    "        fig.add_trace(go.Scatter(x=centroids[:, 0], y=centroids[:, 1],\n",
    "                                mode='markers', marker=dict(color='red', size=15, opacity=0.8),\n",
    "                                name='Centroids'))\n",
    "\n",
    "        # Update the layout to add title and labels\n",
    "        fig.update_layout(title=dict(text = title, y = 0.95), height = 800, xaxis_title=labels[0], yaxis_title=labels[1])\n",
    "        fig.update_coloraxes(colorbar_len = 0.7)\n",
    "\n",
    "        fig.show()\n",
    "        if 'dispatched' in df.columns:\n",
    "            print(\"RATIO OF DISPATCHED TO NON-DISPATCHED BIDS IN EACH CLUSTER\")\n",
    "            dispatched_ratio(df)\n",
    "        \n",
    "            print(\"\\n ________________________________________________________________________________________ \\n\")\n",
    "\n",
    "        print(f\"WEIGHTED MEAN AND VARIANCE OF {features[0].upper()} AND {features[1].upper()} FOR EACH CLUSTER\")\n",
    "        cluster_means_variances(df, features)\n",
    "\n",
    "        print(\"\\n ________________________________________________________________________________________ \\n\")\n",
    "\n",
    "        print(\"SIZE OF EACH CLUSTER:\")\n",
    "        cluster_sizes(df)\n",
    "\n",
    "        print(\"\\n ________________________________________________________________________________________ \\n\")\n",
    "        \n",
    "        print(\"CENTROID VALUES FOR EACH CLUSTER:\")\n",
    "        cluster_centroids(df, features)\n",
    "\n",
    "    if len(features) == 3:\n",
    "    # Generate hover text that includes asset_ID and the actual feature names\n",
    "        hover_text = 'asset_ID: '+ df['asset_ID'].astype(str) + '<br>' + \\\n",
    "                    features[0] + ': ' + df[features[0]].astype(str) + '<br>' + \\\n",
    "                    features[1] + ': ' + df[features[1]].astype(str) + '<br>' + \\\n",
    "                    features[2] + ': ' + df[features[2]].astype(str)\n",
    "\n",
    "        # Create a 3D scatter plot for clusters\n",
    "        fig = go.Figure(data=go.Scatter3d(\n",
    "            x=df[features[0]],\n",
    "            y=df[features[1]],\n",
    "            z=df[features[2]],\n",
    "            mode='markers',\n",
    "            marker=dict(\n",
    "                size=5,\n",
    "                color=kmeans.labels_,  # set color to the cluster labels\n",
    "                colorscale='jet',  # color scale\n",
    "                opacity=0.8\n",
    "            ),\n",
    "            text=hover_text,  # Set hover text\n",
    "            hoverinfo='text'  # Display custom hover text\n",
    "        ))\n",
    "\n",
    "        # Add centroids to the plot\n",
    "        centroids = kmeans.cluster_centers_\n",
    "        fig.add_trace(go.Scatter3d(\n",
    "            x=centroids[:, 0],\n",
    "            y=centroids[:, 1],\n",
    "            z=centroids[:, 2] if centroids.shape[1] > 2 else [0] * len(centroids), # Check if there are 3 centroids, if not set z to 0\n",
    "            mode='markers',\n",
    "            marker=dict(\n",
    "                size=8,\n",
    "                color='red',  # set color of the centroids\n",
    "                opacity=0.8\n",
    "            ),\n",
    "            name='Centroids'\n",
    "        ))\n",
    "\n",
    "        # Update the layout\n",
    "        fig.update_layout(\n",
    "            title=dict(\n",
    "                text = title,\n",
    "                y = 0.95\n",
    "                ),\n",
    "            height = 750,\n",
    "            scene=dict(\n",
    "                xaxis_title=labels[0],\n",
    "                yaxis_title=labels[1],\n",
    "                zaxis_title=labels[2]\n",
    "            ),\n",
    "            margin=dict(l=0, r=0, b=0, t=0)  # Adjust margins to fit labels, if necessary\n",
    "        )\n",
    "\n",
    "\n",
    "\n",
    "\n",
    "        fig.show()\n",
    "        if 'dispatched' in df.columns:\n",
    "            print(\"RATIO OF DISPATCHED TO NON-DISPATCHED BIDS IN EACH CLUSTER\")\n",
    "            dispatched_ratio(df)\n",
    "\n",
    "            print(\"\\n ________________________________________________________________________________________ \\n\")\n",
    "\n",
    "        print(f\"WEIGHTED MEAN AND VARIANCE OF {features[0].upper()}, {features[1].upper()} AND {features[2].upper()} FOR EACH CLUSTER\")\n",
    "        cluster_means_variances(df, features)\n",
    "\n",
    "        print(\"\\n ________________________________________________________________________________________ \\n\")\n",
    "\n",
    "        print(\"CLUSTER SIZES\")\n",
    "        cluster_sizes(df)\n",
    "\n",
    "        print(\"\\n ________________________________________________________________________________________ \\n\")\n",
    "\n",
    "        print(\"CENTROID VALUES FOR EACH CLUSTER:\")\n",
    "        cluster_centroids(df, features)\n",
    "    \n",
    "    if len(features) > 3:\n",
    "        print('Too many features to plot, please refer to the cluster table for more information.')\n",
    "\n",
    "        print(\"\\n ________________________________________________________________________________________ \\n\")\n",
    "\n",
    "        if 'dispatched' in df.columns:\n",
    "            print(\"RATIO OF DISPATCHED TO NON-DISPATCHED BIDS IN EACH CLUSTER\")\n",
    "            dispatched_ratio(df)\n",
    "\n",
    "            print(\"\\n ________________________________________________________________________________________ \\n\")\n",
    "\n",
    "        print(f\"WEIGHTED MEAN AND VARIANCE OF FEATURES FOR EACH CLUSTER\")\n",
    "        cluster_means_variances(df, features)\n",
    "\n",
    "        print(\"\\n ________________________________________________________________________________________ \\n\")\n",
    "\n",
    "        print(\"CLUSTER SIZES\")\n",
    "        cluster_sizes(df)\n",
    "\n",
    "        print(\"\\n ________________________________________________________________________________________ \\n\")\n",
    "\n",
    "        print(\"CENTROID VALUES FOR EACH CLUSTER:\")\n",
    "        cluster_centroids(df, features)\n",
    "\n",
    "\n",
    "\n",
    "#plot a scatter plot of the data before clustering **(FOR DEMONSTRATION PURPOSES ONLY)**\n",
    "def scatter_plot(df, features, title):\n",
    "    fig = px.scatter(df, x=features[0], y=features[1], hover_data=['asset_ID'], title=title)\n",
    "    fig.show()\n",
    "\n",
    "\n",
    "\n",
    "# function to plot the current clusters and centroids **(FOR DEMONSTRATION PURPOSES ONLY)**\n",
    "def plot_clusters(df, centroids, labels, title):\n",
    "    plt.figure(figsize=(8, 6))\n",
    "    plt.scatter(df.iloc[:, 0], df.iloc[:, 1], c=labels, cmap='viridis', marker='o', s=30, alpha=0.6)\n",
    "    plt.scatter(centroids[:, 0], centroids[:, 1], c='red', marker='x', s=100, label='Centroids')\n",
    "    plt.title(title)\n",
    "    plt.xlabel('Block Price ($)')\n",
    "    plt.ylabel('Block Size (MW)')\n",
    "    plt.legend()\n",
    "    plt.show()\n",
    "    \n",
    "# function to perform kmeans clustering iteratively **(FOR DEMONSTRATION PURPOSES ONLY)** \n",
    "def kmeans_cluster_iter(df, features, nclusters, n_init=10):\n",
    "    centroids = None\n",
    "    for i in range(n_init):\n",
    "        # Selecting specific features for clustering\n",
    "        X = df[features].values\n",
    "        kmeans = KMeans(n_clusters=nclusters, init='k-means++' if centroids is None else centroids, max_iter=1, n_init=1, random_state=i)\n",
    "        kmeans.fit(X)\n",
    "        \n",
    "        if i == 0:\n",
    "            # Initial centroid placement and cluster distinctions\n",
    "            plot_clusters(pd.DataFrame(X, columns=features), kmeans.cluster_centers_, kmeans.labels_, 'Initial Cluster Distinctions')\n",
    "        \n",
    "        centroids = kmeans.cluster_centers_ # Update centroids for next initialization\n",
    "        if i == 1:\n",
    "            # 2nd centroid placement and cluster distinctions\n",
    "            plot_clusters(pd.DataFrame(X, columns=features), centroids, kmeans.labels_, '2nd Cluster Distinctions')\n",
    "        centroids = kmeans.cluster_centers_ # Update centroids for next initialization\n",
    "\n",
    "    \n",
    "    # Final clusters and distinctions\n",
    "    kmeans.fit(X) # Final fit to get the end state\n",
    "    plot_clusters(pd.DataFrame(X, columns=features), kmeans.cluster_centers_, kmeans.labels_, 'Final Clusters and Distinctions')\n",
    "\n",
    "\n",
    "\n",
    "# using daily_master_df, create a new data frame that aggregates each generators data for the given features in aggregate_features\n",
    "def aggregate_data(df):\n",
    "    # create a new dataframe to store the aggregated data\n",
    "    aggregated_data = pd.DataFrame()\n",
    "    #aggregated_data[\"zero_offer_percent\"] = 1000\n",
    "    # loop through the generators\n",
    "    for generator in df['asset_ID'].unique():\n",
    "        # create a dictionary to store the aggregated data for the generator\n",
    "        generator_data = {'asset_ID': generator}\n",
    "        # loop through the features\n",
    "        for feature in df.columns:\n",
    "            if feature == 'dispatched' or feature == 'flexible':\n",
    "                # count the number of observations that equal 1 for the feature\n",
    "                generator_data[f'count_{feature}'] = df[(df['asset_ID'] == generator) & (df[feature] == 1)].shape[0]\n",
    "            elif feature == 'asset_ID' or feature == 'begin_dateTime_mpt' or feature == 'Unnamed: 0' or feature == 'offer_control':\n",
    "                # skip these features\n",
    "                continue\n",
    "            else:\n",
    "                # calculate the sum of the feature for the generator\n",
    "                generator_data[f'sum_{feature}'] = df[df['asset_ID'] == generator][feature].sum()\n",
    "        \n",
    "        \n",
    "        \n",
    "        # append the generator data to the aggregated data dataframe\n",
    "        aggregated_data = aggregated_data._append(generator_data, ignore_index=True)\n",
    "\n",
    "    aggregated_data[\"zero_offer_percent\"] = 0.01\n",
    "    # create a new column in the aggregated data dataframe that contains the percentage of total capacity offered (sum_block_size) that was offered in at zero price (i.e block_price = 0) for each asset\n",
    "    for generator in df[\"asset_ID\"].unique():\n",
    "        aggregated_data.loc[aggregated_data[\"asset_ID\"] == generator, \"zero_offer_percent\"] = df[(df[\"asset_ID\"] == generator) & (df[\"block_price\"] == 0.00)][\"block_size\"].astype(\"float64\").sum() / df[df[\"asset_ID\"] == generator][\"block_size\"].astype(\"float64\").sum()\n",
    "\n",
    "\n",
    "    # create a new column in the aggregated data dataframe that contains the percentage of total capacity offered (sum_block_size) that was offered in at zero price (i.e block_price = 0) for each asset\n",
    "    for generator in df[\"asset_ID\"].unique():\n",
    "        aggregated_data.loc[aggregated_data[\"asset_ID\"] == generator, \"sum_dispatched_block_price\"] = df[(df[\"asset_ID\"] == generator) & (df[\"dispatched\"] == 1)][\"block_price\"].astype(\"float64\").sum() \n",
    "\n",
    "    # create a new column in the aggregated data dataframe that contains the percentage of total capacity offered (sum_block_size) that was offered in at zero price (i.e block_price = 0) for each asset\n",
    "    for generator in df[\"asset_ID\"].unique():\n",
    "        aggregated_data.loc[aggregated_data[\"asset_ID\"] == generator, \"sum_dispatched_block_size\"] = df[(df[\"asset_ID\"] == generator) & (df[\"dispatched\"] == 1)][\"block_size\"].astype(\"float64\").sum() \n",
    "\n",
    "        \n",
    "    # return the aggregated data dataframe\n",
    "    return aggregated_data\n",
    "\n",
    "\n"
   ]
  },
  {
   "cell_type": "markdown",
   "metadata": {},
   "source": [
    "### Run the Cluster Function and Display Cluster Statistics"
   ]
  },
  {
   "cell_type": "code",
   "execution_count": 4,
   "metadata": {},
   "outputs": [
    {
     "data": {
      "application/vnd.plotly.v1+json": {
       "config": {
        "plotlyServerURL": "https://plot.ly"
       },
       "data": [
        {
         "mode": "lines+markers",
         "name": "Inertia",
         "type": "scatter",
         "x": [
          1,
          2,
          3,
          4,
          5,
          6,
          7,
          8,
          9,
          10
         ],
         "y": [
          17902768599112.22,
          6364789905572.5625,
          2011975721264.2554,
          1402663944123.7188,
          1003464268036.9448,
          699295747722.3522,
          543430409569.48975,
          436324219204.7682,
          347202039447.5885,
          269211148307.58463
         ]
        }
       ],
       "layout": {
        "template": {
         "data": {
          "bar": [
           {
            "error_x": {
             "color": "#2a3f5f"
            },
            "error_y": {
             "color": "#2a3f5f"
            },
            "marker": {
             "line": {
              "color": "#E5ECF6",
              "width": 0.5
             },
             "pattern": {
              "fillmode": "overlay",
              "size": 10,
              "solidity": 0.2
             }
            },
            "type": "bar"
           }
          ],
          "barpolar": [
           {
            "marker": {
             "line": {
              "color": "#E5ECF6",
              "width": 0.5
             },
             "pattern": {
              "fillmode": "overlay",
              "size": 10,
              "solidity": 0.2
             }
            },
            "type": "barpolar"
           }
          ],
          "carpet": [
           {
            "aaxis": {
             "endlinecolor": "#2a3f5f",
             "gridcolor": "white",
             "linecolor": "white",
             "minorgridcolor": "white",
             "startlinecolor": "#2a3f5f"
            },
            "baxis": {
             "endlinecolor": "#2a3f5f",
             "gridcolor": "white",
             "linecolor": "white",
             "minorgridcolor": "white",
             "startlinecolor": "#2a3f5f"
            },
            "type": "carpet"
           }
          ],
          "choropleth": [
           {
            "colorbar": {
             "outlinewidth": 0,
             "ticks": ""
            },
            "type": "choropleth"
           }
          ],
          "contour": [
           {
            "colorbar": {
             "outlinewidth": 0,
             "ticks": ""
            },
            "colorscale": [
             [
              0,
              "#0d0887"
             ],
             [
              0.1111111111111111,
              "#46039f"
             ],
             [
              0.2222222222222222,
              "#7201a8"
             ],
             [
              0.3333333333333333,
              "#9c179e"
             ],
             [
              0.4444444444444444,
              "#bd3786"
             ],
             [
              0.5555555555555556,
              "#d8576b"
             ],
             [
              0.6666666666666666,
              "#ed7953"
             ],
             [
              0.7777777777777778,
              "#fb9f3a"
             ],
             [
              0.8888888888888888,
              "#fdca26"
             ],
             [
              1,
              "#f0f921"
             ]
            ],
            "type": "contour"
           }
          ],
          "contourcarpet": [
           {
            "colorbar": {
             "outlinewidth": 0,
             "ticks": ""
            },
            "type": "contourcarpet"
           }
          ],
          "heatmap": [
           {
            "colorbar": {
             "outlinewidth": 0,
             "ticks": ""
            },
            "colorscale": [
             [
              0,
              "#0d0887"
             ],
             [
              0.1111111111111111,
              "#46039f"
             ],
             [
              0.2222222222222222,
              "#7201a8"
             ],
             [
              0.3333333333333333,
              "#9c179e"
             ],
             [
              0.4444444444444444,
              "#bd3786"
             ],
             [
              0.5555555555555556,
              "#d8576b"
             ],
             [
              0.6666666666666666,
              "#ed7953"
             ],
             [
              0.7777777777777778,
              "#fb9f3a"
             ],
             [
              0.8888888888888888,
              "#fdca26"
             ],
             [
              1,
              "#f0f921"
             ]
            ],
            "type": "heatmap"
           }
          ],
          "heatmapgl": [
           {
            "colorbar": {
             "outlinewidth": 0,
             "ticks": ""
            },
            "colorscale": [
             [
              0,
              "#0d0887"
             ],
             [
              0.1111111111111111,
              "#46039f"
             ],
             [
              0.2222222222222222,
              "#7201a8"
             ],
             [
              0.3333333333333333,
              "#9c179e"
             ],
             [
              0.4444444444444444,
              "#bd3786"
             ],
             [
              0.5555555555555556,
              "#d8576b"
             ],
             [
              0.6666666666666666,
              "#ed7953"
             ],
             [
              0.7777777777777778,
              "#fb9f3a"
             ],
             [
              0.8888888888888888,
              "#fdca26"
             ],
             [
              1,
              "#f0f921"
             ]
            ],
            "type": "heatmapgl"
           }
          ],
          "histogram": [
           {
            "marker": {
             "pattern": {
              "fillmode": "overlay",
              "size": 10,
              "solidity": 0.2
             }
            },
            "type": "histogram"
           }
          ],
          "histogram2d": [
           {
            "colorbar": {
             "outlinewidth": 0,
             "ticks": ""
            },
            "colorscale": [
             [
              0,
              "#0d0887"
             ],
             [
              0.1111111111111111,
              "#46039f"
             ],
             [
              0.2222222222222222,
              "#7201a8"
             ],
             [
              0.3333333333333333,
              "#9c179e"
             ],
             [
              0.4444444444444444,
              "#bd3786"
             ],
             [
              0.5555555555555556,
              "#d8576b"
             ],
             [
              0.6666666666666666,
              "#ed7953"
             ],
             [
              0.7777777777777778,
              "#fb9f3a"
             ],
             [
              0.8888888888888888,
              "#fdca26"
             ],
             [
              1,
              "#f0f921"
             ]
            ],
            "type": "histogram2d"
           }
          ],
          "histogram2dcontour": [
           {
            "colorbar": {
             "outlinewidth": 0,
             "ticks": ""
            },
            "colorscale": [
             [
              0,
              "#0d0887"
             ],
             [
              0.1111111111111111,
              "#46039f"
             ],
             [
              0.2222222222222222,
              "#7201a8"
             ],
             [
              0.3333333333333333,
              "#9c179e"
             ],
             [
              0.4444444444444444,
              "#bd3786"
             ],
             [
              0.5555555555555556,
              "#d8576b"
             ],
             [
              0.6666666666666666,
              "#ed7953"
             ],
             [
              0.7777777777777778,
              "#fb9f3a"
             ],
             [
              0.8888888888888888,
              "#fdca26"
             ],
             [
              1,
              "#f0f921"
             ]
            ],
            "type": "histogram2dcontour"
           }
          ],
          "mesh3d": [
           {
            "colorbar": {
             "outlinewidth": 0,
             "ticks": ""
            },
            "type": "mesh3d"
           }
          ],
          "parcoords": [
           {
            "line": {
             "colorbar": {
              "outlinewidth": 0,
              "ticks": ""
             }
            },
            "type": "parcoords"
           }
          ],
          "pie": [
           {
            "automargin": true,
            "type": "pie"
           }
          ],
          "scatter": [
           {
            "fillpattern": {
             "fillmode": "overlay",
             "size": 10,
             "solidity": 0.2
            },
            "type": "scatter"
           }
          ],
          "scatter3d": [
           {
            "line": {
             "colorbar": {
              "outlinewidth": 0,
              "ticks": ""
             }
            },
            "marker": {
             "colorbar": {
              "outlinewidth": 0,
              "ticks": ""
             }
            },
            "type": "scatter3d"
           }
          ],
          "scattercarpet": [
           {
            "marker": {
             "colorbar": {
              "outlinewidth": 0,
              "ticks": ""
             }
            },
            "type": "scattercarpet"
           }
          ],
          "scattergeo": [
           {
            "marker": {
             "colorbar": {
              "outlinewidth": 0,
              "ticks": ""
             }
            },
            "type": "scattergeo"
           }
          ],
          "scattergl": [
           {
            "marker": {
             "colorbar": {
              "outlinewidth": 0,
              "ticks": ""
             }
            },
            "type": "scattergl"
           }
          ],
          "scattermapbox": [
           {
            "marker": {
             "colorbar": {
              "outlinewidth": 0,
              "ticks": ""
             }
            },
            "type": "scattermapbox"
           }
          ],
          "scatterpolar": [
           {
            "marker": {
             "colorbar": {
              "outlinewidth": 0,
              "ticks": ""
             }
            },
            "type": "scatterpolar"
           }
          ],
          "scatterpolargl": [
           {
            "marker": {
             "colorbar": {
              "outlinewidth": 0,
              "ticks": ""
             }
            },
            "type": "scatterpolargl"
           }
          ],
          "scatterternary": [
           {
            "marker": {
             "colorbar": {
              "outlinewidth": 0,
              "ticks": ""
             }
            },
            "type": "scatterternary"
           }
          ],
          "surface": [
           {
            "colorbar": {
             "outlinewidth": 0,
             "ticks": ""
            },
            "colorscale": [
             [
              0,
              "#0d0887"
             ],
             [
              0.1111111111111111,
              "#46039f"
             ],
             [
              0.2222222222222222,
              "#7201a8"
             ],
             [
              0.3333333333333333,
              "#9c179e"
             ],
             [
              0.4444444444444444,
              "#bd3786"
             ],
             [
              0.5555555555555556,
              "#d8576b"
             ],
             [
              0.6666666666666666,
              "#ed7953"
             ],
             [
              0.7777777777777778,
              "#fb9f3a"
             ],
             [
              0.8888888888888888,
              "#fdca26"
             ],
             [
              1,
              "#f0f921"
             ]
            ],
            "type": "surface"
           }
          ],
          "table": [
           {
            "cells": {
             "fill": {
              "color": "#EBF0F8"
             },
             "line": {
              "color": "white"
             }
            },
            "header": {
             "fill": {
              "color": "#C8D4E3"
             },
             "line": {
              "color": "white"
             }
            },
            "type": "table"
           }
          ]
         },
         "layout": {
          "annotationdefaults": {
           "arrowcolor": "#2a3f5f",
           "arrowhead": 0,
           "arrowwidth": 1
          },
          "autotypenumbers": "strict",
          "coloraxis": {
           "colorbar": {
            "outlinewidth": 0,
            "ticks": ""
           }
          },
          "colorscale": {
           "diverging": [
            [
             0,
             "#8e0152"
            ],
            [
             0.1,
             "#c51b7d"
            ],
            [
             0.2,
             "#de77ae"
            ],
            [
             0.3,
             "#f1b6da"
            ],
            [
             0.4,
             "#fde0ef"
            ],
            [
             0.5,
             "#f7f7f7"
            ],
            [
             0.6,
             "#e6f5d0"
            ],
            [
             0.7,
             "#b8e186"
            ],
            [
             0.8,
             "#7fbc41"
            ],
            [
             0.9,
             "#4d9221"
            ],
            [
             1,
             "#276419"
            ]
           ],
           "sequential": [
            [
             0,
             "#0d0887"
            ],
            [
             0.1111111111111111,
             "#46039f"
            ],
            [
             0.2222222222222222,
             "#7201a8"
            ],
            [
             0.3333333333333333,
             "#9c179e"
            ],
            [
             0.4444444444444444,
             "#bd3786"
            ],
            [
             0.5555555555555556,
             "#d8576b"
            ],
            [
             0.6666666666666666,
             "#ed7953"
            ],
            [
             0.7777777777777778,
             "#fb9f3a"
            ],
            [
             0.8888888888888888,
             "#fdca26"
            ],
            [
             1,
             "#f0f921"
            ]
           ],
           "sequentialminus": [
            [
             0,
             "#0d0887"
            ],
            [
             0.1111111111111111,
             "#46039f"
            ],
            [
             0.2222222222222222,
             "#7201a8"
            ],
            [
             0.3333333333333333,
             "#9c179e"
            ],
            [
             0.4444444444444444,
             "#bd3786"
            ],
            [
             0.5555555555555556,
             "#d8576b"
            ],
            [
             0.6666666666666666,
             "#ed7953"
            ],
            [
             0.7777777777777778,
             "#fb9f3a"
            ],
            [
             0.8888888888888888,
             "#fdca26"
            ],
            [
             1,
             "#f0f921"
            ]
           ]
          },
          "colorway": [
           "#636efa",
           "#EF553B",
           "#00cc96",
           "#ab63fa",
           "#FFA15A",
           "#19d3f3",
           "#FF6692",
           "#B6E880",
           "#FF97FF",
           "#FECB52"
          ],
          "font": {
           "color": "#2a3f5f"
          },
          "geo": {
           "bgcolor": "white",
           "lakecolor": "white",
           "landcolor": "#E5ECF6",
           "showlakes": true,
           "showland": true,
           "subunitcolor": "white"
          },
          "hoverlabel": {
           "align": "left"
          },
          "hovermode": "closest",
          "mapbox": {
           "style": "light"
          },
          "paper_bgcolor": "white",
          "plot_bgcolor": "#E5ECF6",
          "polar": {
           "angularaxis": {
            "gridcolor": "white",
            "linecolor": "white",
            "ticks": ""
           },
           "bgcolor": "#E5ECF6",
           "radialaxis": {
            "gridcolor": "white",
            "linecolor": "white",
            "ticks": ""
           }
          },
          "scene": {
           "xaxis": {
            "backgroundcolor": "#E5ECF6",
            "gridcolor": "white",
            "gridwidth": 2,
            "linecolor": "white",
            "showbackground": true,
            "ticks": "",
            "zerolinecolor": "white"
           },
           "yaxis": {
            "backgroundcolor": "#E5ECF6",
            "gridcolor": "white",
            "gridwidth": 2,
            "linecolor": "white",
            "showbackground": true,
            "ticks": "",
            "zerolinecolor": "white"
           },
           "zaxis": {
            "backgroundcolor": "#E5ECF6",
            "gridcolor": "white",
            "gridwidth": 2,
            "linecolor": "white",
            "showbackground": true,
            "ticks": "",
            "zerolinecolor": "white"
           }
          },
          "shapedefaults": {
           "line": {
            "color": "#2a3f5f"
           }
          },
          "ternary": {
           "aaxis": {
            "gridcolor": "white",
            "linecolor": "white",
            "ticks": ""
           },
           "baxis": {
            "gridcolor": "white",
            "linecolor": "white",
            "ticks": ""
           },
           "bgcolor": "#E5ECF6",
           "caxis": {
            "gridcolor": "white",
            "linecolor": "white",
            "ticks": ""
           }
          },
          "title": {
           "x": 0.05
          },
          "xaxis": {
           "automargin": true,
           "gridcolor": "white",
           "linecolor": "white",
           "ticks": "",
           "title": {
            "standoff": 15
           },
           "zerolinecolor": "white",
           "zerolinewidth": 2
          },
          "yaxis": {
           "automargin": true,
           "gridcolor": "white",
           "linecolor": "white",
           "ticks": "",
           "title": {
            "standoff": 15
           },
           "zerolinecolor": "white",
           "zerolinewidth": 2
          }
         }
        },
        "title": {
         "text": "Elbow Method"
        },
        "width": 950,
        "xaxis": {
         "tickmode": "linear",
         "title": {
          "text": "Number of clusters"
         }
        },
        "yaxis": {
         "title": {
          "text": "Inertia"
         }
        }
       }
      }
     },
     "metadata": {},
     "output_type": "display_data"
    },
    {
     "data": {
      "application/vnd.plotly.v1+json": {
       "config": {
        "plotlyServerURL": "https://plot.ly"
       },
       "data": [
        {
         "hoverinfo": "text",
         "marker": {
          "color": [
           1,
           1,
           1,
           1,
           1,
           1,
           1,
           1,
           1,
           1,
           1,
           1,
           1,
           2,
           2,
           1,
           1,
           1,
           1,
           1,
           0,
           1,
           0,
           2,
           1,
           0,
           0,
           0,
           0,
           0,
           0,
           2,
           2,
           0,
           0,
           0,
           0,
           0,
           0,
           0,
           0,
           0,
           0,
           0,
           0,
           0,
           0,
           0,
           0,
           0,
           0,
           0,
           0,
           0,
           0,
           0,
           0,
           0,
           0,
           1,
           1,
           0,
           0,
           0,
           1,
           0,
           0,
           0
          ],
          "colorscale": [
           [
            0,
            "rgb(0,0,131)"
           ],
           [
            0.2,
            "rgb(0,60,170)"
           ],
           [
            0.4,
            "rgb(5,255,255)"
           ],
           [
            0.6,
            "rgb(255,255,0)"
           ],
           [
            0.8,
            "rgb(250,0,0)"
           ],
           [
            1,
            "rgb(128,0,0)"
           ]
          ],
          "opacity": 0.8,
          "size": 5
         },
         "mode": "markers",
         "text": [
          "asset_ID: BHL1<br>sum_block_price: 743992.5599999999<br>sum_block_size: 3720<br>zero_offer_percent: 0.6",
          "asset_ID: COD1<br>sum_block_price: 743992.5599999999<br>sum_block_size: 3720<br>zero_offer_percent: 0.6",
          "asset_ID: ME04<br>sum_block_price: 743992.5599999999<br>sum_block_size: 4464<br>zero_offer_percent: 0.6666666666666666",
          "asset_ID: ME03<br>sum_block_price: 743992.5599999999<br>sum_block_size: 5208<br>zero_offer_percent: 0.5714285714285714",
          "asset_ID: ALP1<br>sum_block_price: 743992.5599999999<br>sum_block_size: 5208<br>zero_offer_percent: 0.5714285714285714",
          "asset_ID: BFD1<br>sum_block_price: 743992.5599999999<br>sum_block_size: 4464<br>zero_offer_percent: 0.5",
          "asset_ID: ME02<br>sum_block_price: 743992.5599999999<br>sum_block_size: 5952<br>zero_offer_percent: 0.5",
          "asset_ID: NAT1<br>sum_block_price: 858629.1499999999<br>sum_block_size: 12600<br>zero_offer_percent: 0.39222222222222225",
          "asset_ID: WCD1<br>sum_block_price: 591994.0800000001<br>sum_block_size: 13518<br>zero_offer_percent: 0.8248261577156384",
          "asset_ID: SDH1<br>sum_block_price: 743992.5599999999<br>sum_block_size: 7440<br>zero_offer_percent: 0.5",
          "asset_ID: ALP2<br>sum_block_price: 743992.5599999999<br>sum_block_size: 7440<br>zero_offer_percent: 0.5",
          "asset_ID: CRS3<br>sum_block_price: 1054338.05<br>sum_block_size: 27322<br>zero_offer_percent: 0.28369079862381963",
          "asset_ID: CMH1<br>sum_block_price: 909229.45<br>sum_block_size: 197621<br>zero_offer_percent: 0.4950486031342823",
          "asset_ID: BR5<br>sum_block_price: 2207944.24<br>sum_block_size: 289625<br>zero_offer_percent: 0.23356063875701338",
          "asset_ID: JOF1<br>sum_block_price: 1257019.29<br>sum_block_size: 175325<br>zero_offer_percent: 0.4391558534150863",
          "asset_ID: CRS2<br>sum_block_price: 463881.76999999996<br>sum_block_size: 11088<br>zero_offer_percent: 0.27074314574314573",
          "asset_ID: VVW1<br>sum_block_price: 675757.86<br>sum_block_size: 32569<br>zero_offer_percent: 0.010685007215450276",
          "asset_ID: CRS1<br>sum_block_price: 811001.6599999999<br>sum_block_size: 26260<br>zero_offer_percent: 0.41747905559786747",
          "asset_ID: VVW2<br>sum_block_price: 665937.69<br>sum_block_size: 33193<br>zero_offer_percent: 0.008315006176000964",
          "asset_ID: HRV1<br>sum_block_price: 563400.0<br>sum_block_size: 6260<br>zero_offer_percent: 0.5",
          "asset_ID: ENC2<br>sum_block_price: 267514.53<br>sum_block_size: 66662<br>zero_offer_percent: 0.3053613752962707",
          "asset_ID: CAL1<br>sum_block_price: 674855.03<br>sum_block_size: 225783<br>zero_offer_percent: 0.39440967654783576",
          "asset_ID: PH1<br>sum_block_price: 108428.90000000001<br>sum_block_size: 19497<br>zero_offer_percent: 0.09329640457506283",
          "asset_ID: SH2<br>sum_block_price: 1663846.13<br>sum_block_size: 266301<br>zero_offer_percent: 0.30281523539153066",
          "asset_ID: EC01<br>sum_block_price: 595306.29<br>sum_block_size: 39847<br>zero_offer_percent: 0.29211734885938717",
          "asset_ID: EGC1<br>sum_block_price: 287253.56999999995<br>sum_block_size: 582908<br>zero_offer_percent: 0.5272581608075374",
          "asset_ID: ALS1<br>sum_block_price: 143636.77000000002<br>sum_block_size: 6534<br>zero_offer_percent: 0.03673094582185491",
          "asset_ID: SCL1<br>sum_block_price: 114401.73000000001<br>sum_block_size: 261150<br>zero_offer_percent: 0.9100516944284893",
          "asset_ID: NPP1<br>sum_block_price: 328091.0<br>sum_block_size: 60060<br>zero_offer_percent: 0.5208125208125208",
          "asset_ID: ANC1<br>sum_block_price: 84124.01000000001<br>sum_block_size: 42360<br>zero_offer_percent: 0.06716241737488196",
          "asset_ID: RB5<br>sum_block_price: 665.07<br>sum_block_size: 311<br>zero_offer_percent: 0.0",
          "asset_ID: SD6<br>sum_block_price: 2071317.8599999999<br>sum_block_size: 270725<br>zero_offer_percent: 0.2589528118939884",
          "asset_ID: KH2<br>sum_block_price: 1376700.46<br>sum_block_size: 242215<br>zero_offer_percent: 0.3256404434077163",
          "asset_ID: GEN6<br>sum_block_price: 4126.389999999999<br>sum_block_size: 1205<br>zero_offer_percent: 0.9128630705394191",
          "asset_ID: DOWG<br>sum_block_price: 152819.5<br>sum_block_size: 138571<br>zero_offer_percent: 0.7065331129890092",
          "asset_ID: FH1<br>sum_block_price: 25657.28<br>sum_block_size: 123519<br>zero_offer_percent: 0.8432710757049523",
          "asset_ID: TC01<br>sum_block_price: 11093.349999999999<br>sum_block_size: 54592<br>zero_offer_percent: 0.8627820926143025",
          "asset_ID: DRW1<br>sum_block_price: 0.0<br>sum_block_size: 2232<br>zero_offer_percent: 1.0",
          "asset_ID: MUL1<br>sum_block_price: 0.0<br>sum_block_size: 3720<br>zero_offer_percent: 1.0",
          "asset_ID: TLM2<br>sum_block_price: 0.0<br>sum_block_size: 6754<br>zero_offer_percent: 1.0",
          "asset_ID: UOC1<br>sum_block_price: 0.0<br>sum_block_size: 8928<br>zero_offer_percent: 1.0",
          "asset_ID: SCR1<br>sum_block_price: 0.0<br>sum_block_size: 13746<br>zero_offer_percent: 1.0",
          "asset_ID: SET1<br>sum_block_price: 0.0<br>sum_block_size: 11662<br>zero_offer_percent: 1.0",
          "asset_ID: MEG1<br>sum_block_price: 0.0<br>sum_block_size: 26901<br>zero_offer_percent: 1.0",
          "asset_ID: HMT1<br>sum_block_price: 0.0<br>sum_block_size: 20003<br>zero_offer_percent: 1.0",
          "asset_ID: RL1<br>sum_block_price: 0.0<br>sum_block_size: 2801<br>zero_offer_percent: 1.0",
          "asset_ID: TC02<br>sum_block_price: 0.0<br>sum_block_size: 48236<br>zero_offer_percent: 1.0",
          "asset_ID: IOR1<br>sum_block_price: 0.0<br>sum_block_size: 83739<br>zero_offer_percent: 1.0",
          "asset_ID: PR1<br>sum_block_price: 0.0<br>sum_block_size: 2357<br>zero_offer_percent: 1.0",
          "asset_ID: CL01<br>sum_block_price: 0.0<br>sum_block_size: 53122<br>zero_offer_percent: 1.0",
          "asset_ID: HRT1<br>sum_block_price: 0.0<br>sum_block_size: 71467<br>zero_offer_percent: 1.0",
          "asset_ID: NX01<br>sum_block_price: 3999.96<br>sum_block_size: 60110<br>zero_offer_percent: 0.9998003659956746",
          "asset_ID: IOR2<br>sum_block_price: 0.0<br>sum_block_size: 101813<br>zero_offer_percent: 1.0",
          "asset_ID: APS1<br>sum_block_price: 2738.4300000000003<br>sum_block_size: 106137<br>zero_offer_percent: 0.9774254030168555",
          "asset_ID: MKR1<br>sum_block_price: 29037.309999999998<br>sum_block_size: 123033<br>zero_offer_percent: 0.984134337941853",
          "asset_ID: NX02<br>sum_block_price: 0.0<br>sum_block_size: 94715<br>zero_offer_percent: 1.0",
          "asset_ID: MKRC<br>sum_block_price: 0.0<br>sum_block_size: 129924<br>zero_offer_percent: 1.0",
          "asset_ID: SCR5<br>sum_block_price: 1011.0799999999999<br>sum_block_size: 133519<br>zero_offer_percent: 0.9964424538829679",
          "asset_ID: SCR6<br>sum_block_price: 34999.649999999994<br>sum_block_size: 301213<br>zero_offer_percent: 0.9982504075189318",
          "asset_ID: NPC2<br>sum_block_price: 494995.04999999993<br>sum_block_size: 4455<br>zero_offer_percent: 0.4444444444444444",
          "asset_ID: NPC3<br>sum_block_price: 495995.0399999999<br>sum_block_size: 4464<br>zero_offer_percent: 0.4444444444444444",
          "asset_ID: FNG1<br>sum_block_price: 0.0<br>sum_block_size: 7028<br>zero_offer_percent: 1.0",
          "asset_ID: BCRK<br>sum_block_price: 0.0<br>sum_block_size: 38115<br>zero_offer_percent: 1.0",
          "asset_ID: GEN5<br>sum_block_price: 30293.49<br>sum_block_size: 9438<br>zero_offer_percent: 0.7692307692307693",
          "asset_ID: BR4<br>sum_block_price: 405620.61<br>sum_block_size: 35635<br>zero_offer_percent: 0.21776343482531219",
          "asset_ID: EC04<br>sum_block_price: 0.0<br>sum_block_size: 37653<br>zero_offer_percent: 1.0",
          "asset_ID: KH3<br>sum_block_price: 126798.78<br>sum_block_size: 204917<br>zero_offer_percent: 0.49691826446805293",
          "asset_ID: CNR5<br>sum_block_price: 0.0<br>sum_block_size: 7941<br>zero_offer_percent: 1.0"
         ],
         "type": "scatter3d",
         "x": [
          743992.5599999999,
          743992.5599999999,
          743992.5599999999,
          743992.5599999999,
          743992.5599999999,
          743992.5599999999,
          743992.5599999999,
          858629.1499999999,
          591994.0800000001,
          743992.5599999999,
          743992.5599999999,
          1054338.05,
          909229.45,
          2207944.24,
          1257019.29,
          463881.76999999996,
          675757.86,
          811001.6599999999,
          665937.69,
          563400,
          267514.53,
          674855.03,
          108428.90000000001,
          1663846.13,
          595306.29,
          287253.56999999995,
          143636.77000000002,
          114401.73000000001,
          328091,
          84124.01000000001,
          665.07,
          2071317.8599999999,
          1376700.46,
          4126.389999999999,
          152819.5,
          25657.28,
          11093.349999999999,
          0,
          0,
          0,
          0,
          0,
          0,
          0,
          0,
          0,
          0,
          0,
          0,
          0,
          0,
          3999.96,
          0,
          2738.4300000000003,
          29037.309999999998,
          0,
          0,
          1011.0799999999999,
          34999.649999999994,
          494995.04999999993,
          495995.0399999999,
          0,
          0,
          30293.49,
          405620.61,
          0,
          126798.78,
          0
         ],
         "y": [
          3720,
          3720,
          4464,
          5208,
          5208,
          4464,
          5952,
          12600,
          13518,
          7440,
          7440,
          27322,
          197621,
          289625,
          175325,
          11088,
          32569,
          26260,
          33193,
          6260,
          66662,
          225783,
          19497,
          266301,
          39847,
          582908,
          6534,
          261150,
          60060,
          42360,
          311,
          270725,
          242215,
          1205,
          138571,
          123519,
          54592,
          2232,
          3720,
          6754,
          8928,
          13746,
          11662,
          26901,
          20003,
          2801,
          48236,
          83739,
          2357,
          53122,
          71467,
          60110,
          101813,
          106137,
          123033,
          94715,
          129924,
          133519,
          301213,
          4455,
          4464,
          7028,
          38115,
          9438,
          35635,
          37653,
          204917,
          7941
         ],
         "z": [
          0.6,
          0.6,
          0.6666666666666666,
          0.5714285714285714,
          0.5714285714285714,
          0.5,
          0.5,
          0.39222222222222225,
          0.8248261577156384,
          0.5,
          0.5,
          0.28369079862381963,
          0.4950486031342823,
          0.23356063875701338,
          0.4391558534150863,
          0.27074314574314573,
          0.010685007215450276,
          0.41747905559786747,
          0.008315006176000964,
          0.5,
          0.3053613752962707,
          0.39440967654783576,
          0.09329640457506283,
          0.30281523539153066,
          0.29211734885938717,
          0.5272581608075374,
          0.03673094582185491,
          0.9100516944284893,
          0.5208125208125208,
          0.06716241737488196,
          0,
          0.2589528118939884,
          0.3256404434077163,
          0.9128630705394191,
          0.7065331129890092,
          0.8432710757049523,
          0.8627820926143025,
          1,
          1,
          1,
          1,
          1,
          1,
          1,
          1,
          1,
          1,
          1,
          1,
          1,
          1,
          0.9998003659956746,
          1,
          0.9774254030168555,
          0.984134337941853,
          1,
          1,
          0.9964424538829679,
          0.9982504075189318,
          0.4444444444444444,
          0.4444444444444444,
          1,
          1,
          0.7692307692307693,
          0.21776343482531219,
          1,
          0.49691826446805293,
          1
         ]
        },
        {
         "marker": {
          "color": "red",
          "opacity": 0.8,
          "size": 8
         },
         "mode": "markers",
         "name": "Centroids",
         "type": "scatter3d",
         "x": [
          43917.2699999999,
          693777.1639130434,
          1715365.5960000001
         ],
         "y": [
          76714.825,
          31227.43478260866,
          248838.2
         ],
         "z": [
          0.8252081218254852,
          0.4350310067423331,
          0.312024996573067
         ]
        }
       ],
       "layout": {
        "height": 750,
        "margin": {
         "b": 0,
         "l": 0,
         "r": 0,
         "t": 0
        },
        "scene": {
         "xaxis": {
          "title": {
           "text": "sum_block_price"
          }
         },
         "yaxis": {
          "title": {
           "text": "sum_block_size"
          }
         },
         "zaxis": {
          "title": {
           "text": "zero_offer_percent"
          }
         }
        },
        "template": {
         "data": {
          "bar": [
           {
            "error_x": {
             "color": "#2a3f5f"
            },
            "error_y": {
             "color": "#2a3f5f"
            },
            "marker": {
             "line": {
              "color": "#E5ECF6",
              "width": 0.5
             },
             "pattern": {
              "fillmode": "overlay",
              "size": 10,
              "solidity": 0.2
             }
            },
            "type": "bar"
           }
          ],
          "barpolar": [
           {
            "marker": {
             "line": {
              "color": "#E5ECF6",
              "width": 0.5
             },
             "pattern": {
              "fillmode": "overlay",
              "size": 10,
              "solidity": 0.2
             }
            },
            "type": "barpolar"
           }
          ],
          "carpet": [
           {
            "aaxis": {
             "endlinecolor": "#2a3f5f",
             "gridcolor": "white",
             "linecolor": "white",
             "minorgridcolor": "white",
             "startlinecolor": "#2a3f5f"
            },
            "baxis": {
             "endlinecolor": "#2a3f5f",
             "gridcolor": "white",
             "linecolor": "white",
             "minorgridcolor": "white",
             "startlinecolor": "#2a3f5f"
            },
            "type": "carpet"
           }
          ],
          "choropleth": [
           {
            "colorbar": {
             "outlinewidth": 0,
             "ticks": ""
            },
            "type": "choropleth"
           }
          ],
          "contour": [
           {
            "colorbar": {
             "outlinewidth": 0,
             "ticks": ""
            },
            "colorscale": [
             [
              0,
              "#0d0887"
             ],
             [
              0.1111111111111111,
              "#46039f"
             ],
             [
              0.2222222222222222,
              "#7201a8"
             ],
             [
              0.3333333333333333,
              "#9c179e"
             ],
             [
              0.4444444444444444,
              "#bd3786"
             ],
             [
              0.5555555555555556,
              "#d8576b"
             ],
             [
              0.6666666666666666,
              "#ed7953"
             ],
             [
              0.7777777777777778,
              "#fb9f3a"
             ],
             [
              0.8888888888888888,
              "#fdca26"
             ],
             [
              1,
              "#f0f921"
             ]
            ],
            "type": "contour"
           }
          ],
          "contourcarpet": [
           {
            "colorbar": {
             "outlinewidth": 0,
             "ticks": ""
            },
            "type": "contourcarpet"
           }
          ],
          "heatmap": [
           {
            "colorbar": {
             "outlinewidth": 0,
             "ticks": ""
            },
            "colorscale": [
             [
              0,
              "#0d0887"
             ],
             [
              0.1111111111111111,
              "#46039f"
             ],
             [
              0.2222222222222222,
              "#7201a8"
             ],
             [
              0.3333333333333333,
              "#9c179e"
             ],
             [
              0.4444444444444444,
              "#bd3786"
             ],
             [
              0.5555555555555556,
              "#d8576b"
             ],
             [
              0.6666666666666666,
              "#ed7953"
             ],
             [
              0.7777777777777778,
              "#fb9f3a"
             ],
             [
              0.8888888888888888,
              "#fdca26"
             ],
             [
              1,
              "#f0f921"
             ]
            ],
            "type": "heatmap"
           }
          ],
          "heatmapgl": [
           {
            "colorbar": {
             "outlinewidth": 0,
             "ticks": ""
            },
            "colorscale": [
             [
              0,
              "#0d0887"
             ],
             [
              0.1111111111111111,
              "#46039f"
             ],
             [
              0.2222222222222222,
              "#7201a8"
             ],
             [
              0.3333333333333333,
              "#9c179e"
             ],
             [
              0.4444444444444444,
              "#bd3786"
             ],
             [
              0.5555555555555556,
              "#d8576b"
             ],
             [
              0.6666666666666666,
              "#ed7953"
             ],
             [
              0.7777777777777778,
              "#fb9f3a"
             ],
             [
              0.8888888888888888,
              "#fdca26"
             ],
             [
              1,
              "#f0f921"
             ]
            ],
            "type": "heatmapgl"
           }
          ],
          "histogram": [
           {
            "marker": {
             "pattern": {
              "fillmode": "overlay",
              "size": 10,
              "solidity": 0.2
             }
            },
            "type": "histogram"
           }
          ],
          "histogram2d": [
           {
            "colorbar": {
             "outlinewidth": 0,
             "ticks": ""
            },
            "colorscale": [
             [
              0,
              "#0d0887"
             ],
             [
              0.1111111111111111,
              "#46039f"
             ],
             [
              0.2222222222222222,
              "#7201a8"
             ],
             [
              0.3333333333333333,
              "#9c179e"
             ],
             [
              0.4444444444444444,
              "#bd3786"
             ],
             [
              0.5555555555555556,
              "#d8576b"
             ],
             [
              0.6666666666666666,
              "#ed7953"
             ],
             [
              0.7777777777777778,
              "#fb9f3a"
             ],
             [
              0.8888888888888888,
              "#fdca26"
             ],
             [
              1,
              "#f0f921"
             ]
            ],
            "type": "histogram2d"
           }
          ],
          "histogram2dcontour": [
           {
            "colorbar": {
             "outlinewidth": 0,
             "ticks": ""
            },
            "colorscale": [
             [
              0,
              "#0d0887"
             ],
             [
              0.1111111111111111,
              "#46039f"
             ],
             [
              0.2222222222222222,
              "#7201a8"
             ],
             [
              0.3333333333333333,
              "#9c179e"
             ],
             [
              0.4444444444444444,
              "#bd3786"
             ],
             [
              0.5555555555555556,
              "#d8576b"
             ],
             [
              0.6666666666666666,
              "#ed7953"
             ],
             [
              0.7777777777777778,
              "#fb9f3a"
             ],
             [
              0.8888888888888888,
              "#fdca26"
             ],
             [
              1,
              "#f0f921"
             ]
            ],
            "type": "histogram2dcontour"
           }
          ],
          "mesh3d": [
           {
            "colorbar": {
             "outlinewidth": 0,
             "ticks": ""
            },
            "type": "mesh3d"
           }
          ],
          "parcoords": [
           {
            "line": {
             "colorbar": {
              "outlinewidth": 0,
              "ticks": ""
             }
            },
            "type": "parcoords"
           }
          ],
          "pie": [
           {
            "automargin": true,
            "type": "pie"
           }
          ],
          "scatter": [
           {
            "fillpattern": {
             "fillmode": "overlay",
             "size": 10,
             "solidity": 0.2
            },
            "type": "scatter"
           }
          ],
          "scatter3d": [
           {
            "line": {
             "colorbar": {
              "outlinewidth": 0,
              "ticks": ""
             }
            },
            "marker": {
             "colorbar": {
              "outlinewidth": 0,
              "ticks": ""
             }
            },
            "type": "scatter3d"
           }
          ],
          "scattercarpet": [
           {
            "marker": {
             "colorbar": {
              "outlinewidth": 0,
              "ticks": ""
             }
            },
            "type": "scattercarpet"
           }
          ],
          "scattergeo": [
           {
            "marker": {
             "colorbar": {
              "outlinewidth": 0,
              "ticks": ""
             }
            },
            "type": "scattergeo"
           }
          ],
          "scattergl": [
           {
            "marker": {
             "colorbar": {
              "outlinewidth": 0,
              "ticks": ""
             }
            },
            "type": "scattergl"
           }
          ],
          "scattermapbox": [
           {
            "marker": {
             "colorbar": {
              "outlinewidth": 0,
              "ticks": ""
             }
            },
            "type": "scattermapbox"
           }
          ],
          "scatterpolar": [
           {
            "marker": {
             "colorbar": {
              "outlinewidth": 0,
              "ticks": ""
             }
            },
            "type": "scatterpolar"
           }
          ],
          "scatterpolargl": [
           {
            "marker": {
             "colorbar": {
              "outlinewidth": 0,
              "ticks": ""
             }
            },
            "type": "scatterpolargl"
           }
          ],
          "scatterternary": [
           {
            "marker": {
             "colorbar": {
              "outlinewidth": 0,
              "ticks": ""
             }
            },
            "type": "scatterternary"
           }
          ],
          "surface": [
           {
            "colorbar": {
             "outlinewidth": 0,
             "ticks": ""
            },
            "colorscale": [
             [
              0,
              "#0d0887"
             ],
             [
              0.1111111111111111,
              "#46039f"
             ],
             [
              0.2222222222222222,
              "#7201a8"
             ],
             [
              0.3333333333333333,
              "#9c179e"
             ],
             [
              0.4444444444444444,
              "#bd3786"
             ],
             [
              0.5555555555555556,
              "#d8576b"
             ],
             [
              0.6666666666666666,
              "#ed7953"
             ],
             [
              0.7777777777777778,
              "#fb9f3a"
             ],
             [
              0.8888888888888888,
              "#fdca26"
             ],
             [
              1,
              "#f0f921"
             ]
            ],
            "type": "surface"
           }
          ],
          "table": [
           {
            "cells": {
             "fill": {
              "color": "#EBF0F8"
             },
             "line": {
              "color": "white"
             }
            },
            "header": {
             "fill": {
              "color": "#C8D4E3"
             },
             "line": {
              "color": "white"
             }
            },
            "type": "table"
           }
          ]
         },
         "layout": {
          "annotationdefaults": {
           "arrowcolor": "#2a3f5f",
           "arrowhead": 0,
           "arrowwidth": 1
          },
          "autotypenumbers": "strict",
          "coloraxis": {
           "colorbar": {
            "outlinewidth": 0,
            "ticks": ""
           }
          },
          "colorscale": {
           "diverging": [
            [
             0,
             "#8e0152"
            ],
            [
             0.1,
             "#c51b7d"
            ],
            [
             0.2,
             "#de77ae"
            ],
            [
             0.3,
             "#f1b6da"
            ],
            [
             0.4,
             "#fde0ef"
            ],
            [
             0.5,
             "#f7f7f7"
            ],
            [
             0.6,
             "#e6f5d0"
            ],
            [
             0.7,
             "#b8e186"
            ],
            [
             0.8,
             "#7fbc41"
            ],
            [
             0.9,
             "#4d9221"
            ],
            [
             1,
             "#276419"
            ]
           ],
           "sequential": [
            [
             0,
             "#0d0887"
            ],
            [
             0.1111111111111111,
             "#46039f"
            ],
            [
             0.2222222222222222,
             "#7201a8"
            ],
            [
             0.3333333333333333,
             "#9c179e"
            ],
            [
             0.4444444444444444,
             "#bd3786"
            ],
            [
             0.5555555555555556,
             "#d8576b"
            ],
            [
             0.6666666666666666,
             "#ed7953"
            ],
            [
             0.7777777777777778,
             "#fb9f3a"
            ],
            [
             0.8888888888888888,
             "#fdca26"
            ],
            [
             1,
             "#f0f921"
            ]
           ],
           "sequentialminus": [
            [
             0,
             "#0d0887"
            ],
            [
             0.1111111111111111,
             "#46039f"
            ],
            [
             0.2222222222222222,
             "#7201a8"
            ],
            [
             0.3333333333333333,
             "#9c179e"
            ],
            [
             0.4444444444444444,
             "#bd3786"
            ],
            [
             0.5555555555555556,
             "#d8576b"
            ],
            [
             0.6666666666666666,
             "#ed7953"
            ],
            [
             0.7777777777777778,
             "#fb9f3a"
            ],
            [
             0.8888888888888888,
             "#fdca26"
            ],
            [
             1,
             "#f0f921"
            ]
           ]
          },
          "colorway": [
           "#636efa",
           "#EF553B",
           "#00cc96",
           "#ab63fa",
           "#FFA15A",
           "#19d3f3",
           "#FF6692",
           "#B6E880",
           "#FF97FF",
           "#FECB52"
          ],
          "font": {
           "color": "#2a3f5f"
          },
          "geo": {
           "bgcolor": "white",
           "lakecolor": "white",
           "landcolor": "#E5ECF6",
           "showlakes": true,
           "showland": true,
           "subunitcolor": "white"
          },
          "hoverlabel": {
           "align": "left"
          },
          "hovermode": "closest",
          "mapbox": {
           "style": "light"
          },
          "paper_bgcolor": "white",
          "plot_bgcolor": "#E5ECF6",
          "polar": {
           "angularaxis": {
            "gridcolor": "white",
            "linecolor": "white",
            "ticks": ""
           },
           "bgcolor": "#E5ECF6",
           "radialaxis": {
            "gridcolor": "white",
            "linecolor": "white",
            "ticks": ""
           }
          },
          "scene": {
           "xaxis": {
            "backgroundcolor": "#E5ECF6",
            "gridcolor": "white",
            "gridwidth": 2,
            "linecolor": "white",
            "showbackground": true,
            "ticks": "",
            "zerolinecolor": "white"
           },
           "yaxis": {
            "backgroundcolor": "#E5ECF6",
            "gridcolor": "white",
            "gridwidth": 2,
            "linecolor": "white",
            "showbackground": true,
            "ticks": "",
            "zerolinecolor": "white"
           },
           "zaxis": {
            "backgroundcolor": "#E5ECF6",
            "gridcolor": "white",
            "gridwidth": 2,
            "linecolor": "white",
            "showbackground": true,
            "ticks": "",
            "zerolinecolor": "white"
           }
          },
          "shapedefaults": {
           "line": {
            "color": "#2a3f5f"
           }
          },
          "ternary": {
           "aaxis": {
            "gridcolor": "white",
            "linecolor": "white",
            "ticks": ""
           },
           "baxis": {
            "gridcolor": "white",
            "linecolor": "white",
            "ticks": ""
           },
           "bgcolor": "#E5ECF6",
           "caxis": {
            "gridcolor": "white",
            "linecolor": "white",
            "ticks": ""
           }
          },
          "title": {
           "x": 0.05
          },
          "xaxis": {
           "automargin": true,
           "gridcolor": "white",
           "linecolor": "white",
           "ticks": "",
           "title": {
            "standoff": 15
           },
           "zerolinecolor": "white",
           "zerolinewidth": 2
          },
          "yaxis": {
           "automargin": true,
           "gridcolor": "white",
           "linecolor": "white",
           "ticks": "",
           "title": {
            "standoff": 15
           },
           "zerolinecolor": "white",
           "zerolinewidth": 2
          }
         }
        },
        "title": {
         "text": "KMeans Clustering of sum_block_price, sum_block_size and zero_offer_percent",
         "y": 0.95
        }
       }
      }
     },
     "metadata": {},
     "output_type": "display_data"
    },
    {
     "name": "stdout",
     "output_type": "stream",
     "text": [
      "WEIGHTED MEAN AND VARIANCE OF SUM_BLOCK_PRICE, SUM_BLOCK_SIZE AND ZERO_OFFER_PERCENT FOR EACH CLUSTER\n"
     ]
    },
    {
     "data": {
      "text/html": [
       "<div>\n",
       "<style scoped>\n",
       "    .dataframe tbody tr th:only-of-type {\n",
       "        vertical-align: middle;\n",
       "    }\n",
       "\n",
       "    .dataframe tbody tr th {\n",
       "        vertical-align: top;\n",
       "    }\n",
       "\n",
       "    .dataframe thead th {\n",
       "        text-align: right;\n",
       "    }\n",
       "</style>\n",
       "<table border=\"1\" class=\"dataframe\">\n",
       "  <thead>\n",
       "    <tr style=\"text-align: right;\">\n",
       "      <th></th>\n",
       "      <th>cluster</th>\n",
       "      <th>mean_sum_block_price</th>\n",
       "      <th>var_sum_block_price</th>\n",
       "      <th>mean_sum_block_size</th>\n",
       "      <th>var_sum_block_size</th>\n",
       "      <th>mean_zero_offer_percent</th>\n",
       "      <th>var_zero_offer_percent</th>\n",
       "    </tr>\n",
       "  </thead>\n",
       "  <tbody>\n",
       "    <tr>\n",
       "      <th>0</th>\n",
       "      <td>1</td>\n",
       "      <td>6.937772e+05</td>\n",
       "      <td>2.241211e+10</td>\n",
       "      <td>31227.434783</td>\n",
       "      <td>3.403230e+09</td>\n",
       "      <td>0.435031</td>\n",
       "      <td>0.036618</td>\n",
       "    </tr>\n",
       "    <tr>\n",
       "      <th>1</th>\n",
       "      <td>2</td>\n",
       "      <td>1.715366e+06</td>\n",
       "      <td>1.741914e+11</td>\n",
       "      <td>248838.200000</td>\n",
       "      <td>1.973900e+09</td>\n",
       "      <td>0.312025</td>\n",
       "      <td>0.006351</td>\n",
       "    </tr>\n",
       "    <tr>\n",
       "      <th>2</th>\n",
       "      <td>0</td>\n",
       "      <td>4.391727e+04</td>\n",
       "      <td>7.188901e+09</td>\n",
       "      <td>76714.825000</td>\n",
       "      <td>1.176949e+10</td>\n",
       "      <td>0.825208</td>\n",
       "      <td>0.097078</td>\n",
       "    </tr>\n",
       "  </tbody>\n",
       "</table>\n",
       "</div>"
      ],
      "text/plain": [
       "   cluster  mean_sum_block_price  var_sum_block_price  mean_sum_block_size  \\\n",
       "0        1          6.937772e+05         2.241211e+10         31227.434783   \n",
       "1        2          1.715366e+06         1.741914e+11        248838.200000   \n",
       "2        0          4.391727e+04         7.188901e+09         76714.825000   \n",
       "\n",
       "   var_sum_block_size  mean_zero_offer_percent  var_zero_offer_percent  \n",
       "0        3.403230e+09                 0.435031                0.036618  \n",
       "1        1.973900e+09                 0.312025                0.006351  \n",
       "2        1.176949e+10                 0.825208                0.097078  "
      ]
     },
     "metadata": {},
     "output_type": "display_data"
    },
    {
     "name": "stdout",
     "output_type": "stream",
     "text": [
      "\n",
      " ________________________________________________________________________________________ \n",
      "\n",
      "CLUSTER SIZES\n"
     ]
    },
    {
     "data": {
      "text/html": [
       "<div>\n",
       "<style scoped>\n",
       "    .dataframe tbody tr th:only-of-type {\n",
       "        vertical-align: middle;\n",
       "    }\n",
       "\n",
       "    .dataframe tbody tr th {\n",
       "        vertical-align: top;\n",
       "    }\n",
       "\n",
       "    .dataframe thead th {\n",
       "        text-align: right;\n",
       "    }\n",
       "</style>\n",
       "<table border=\"1\" class=\"dataframe\">\n",
       "  <thead>\n",
       "    <tr style=\"text-align: right;\">\n",
       "      <th></th>\n",
       "      <th>cluster</th>\n",
       "      <th>size</th>\n",
       "    </tr>\n",
       "  </thead>\n",
       "  <tbody>\n",
       "    <tr>\n",
       "      <th>0</th>\n",
       "      <td>0</td>\n",
       "      <td>40</td>\n",
       "    </tr>\n",
       "    <tr>\n",
       "      <th>0</th>\n",
       "      <td>1</td>\n",
       "      <td>23</td>\n",
       "    </tr>\n",
       "    <tr>\n",
       "      <th>0</th>\n",
       "      <td>2</td>\n",
       "      <td>5</td>\n",
       "    </tr>\n",
       "  </tbody>\n",
       "</table>\n",
       "</div>"
      ],
      "text/plain": [
       "   cluster  size\n",
       "0        0    40\n",
       "0        1    23\n",
       "0        2     5"
      ]
     },
     "metadata": {},
     "output_type": "display_data"
    },
    {
     "name": "stdout",
     "output_type": "stream",
     "text": [
      "\n",
      " ________________________________________________________________________________________ \n",
      "\n",
      "CENTROID VALUES FOR EACH CLUSTER:\n"
     ]
    },
    {
     "data": {
      "text/html": [
       "<div>\n",
       "<style scoped>\n",
       "    .dataframe tbody tr th:only-of-type {\n",
       "        vertical-align: middle;\n",
       "    }\n",
       "\n",
       "    .dataframe tbody tr th {\n",
       "        vertical-align: top;\n",
       "    }\n",
       "\n",
       "    .dataframe thead th {\n",
       "        text-align: right;\n",
       "    }\n",
       "</style>\n",
       "<table border=\"1\" class=\"dataframe\">\n",
       "  <thead>\n",
       "    <tr style=\"text-align: right;\">\n",
       "      <th></th>\n",
       "      <th>centroid</th>\n",
       "      <th>sum_block_price</th>\n",
       "      <th>sum_block_size</th>\n",
       "      <th>zero_offer_percent</th>\n",
       "    </tr>\n",
       "  </thead>\n",
       "  <tbody>\n",
       "    <tr>\n",
       "      <th>0</th>\n",
       "      <td>[1]</td>\n",
       "      <td>6.937772e+05</td>\n",
       "      <td>31227.434783</td>\n",
       "      <td>0.435031</td>\n",
       "    </tr>\n",
       "    <tr>\n",
       "      <th>1</th>\n",
       "      <td>[2]</td>\n",
       "      <td>1.715366e+06</td>\n",
       "      <td>248838.200000</td>\n",
       "      <td>0.312025</td>\n",
       "    </tr>\n",
       "    <tr>\n",
       "      <th>2</th>\n",
       "      <td>[0]</td>\n",
       "      <td>4.391727e+04</td>\n",
       "      <td>76714.825000</td>\n",
       "      <td>0.825208</td>\n",
       "    </tr>\n",
       "  </tbody>\n",
       "</table>\n",
       "</div>"
      ],
      "text/plain": [
       "  centroid  sum_block_price  sum_block_size  zero_offer_percent\n",
       "0      [1]     6.937772e+05    31227.434783            0.435031\n",
       "1      [2]     1.715366e+06   248838.200000            0.312025\n",
       "2      [0]     4.391727e+04    76714.825000            0.825208"
      ]
     },
     "metadata": {},
     "output_type": "display_data"
    },
    {
     "name": "stdout",
     "output_type": "stream",
     "text": [
      "Cluster 1\n"
     ]
    },
    {
     "data": {
      "text/html": [
       "<div>\n",
       "<style scoped>\n",
       "    .dataframe tbody tr th:only-of-type {\n",
       "        vertical-align: middle;\n",
       "    }\n",
       "\n",
       "    .dataframe tbody tr th {\n",
       "        vertical-align: top;\n",
       "    }\n",
       "\n",
       "    .dataframe thead th {\n",
       "        text-align: right;\n",
       "    }\n",
       "</style>\n",
       "<table border=\"1\" class=\"dataframe\">\n",
       "  <thead>\n",
       "    <tr style=\"text-align: right;\">\n",
       "      <th></th>\n",
       "      <th>asset_ID</th>\n",
       "    </tr>\n",
       "  </thead>\n",
       "  <tbody>\n",
       "    <tr>\n",
       "      <th>0</th>\n",
       "      <td>BHL1</td>\n",
       "    </tr>\n",
       "    <tr>\n",
       "      <th>1</th>\n",
       "      <td>COD1</td>\n",
       "    </tr>\n",
       "    <tr>\n",
       "      <th>2</th>\n",
       "      <td>ME04</td>\n",
       "    </tr>\n",
       "    <tr>\n",
       "      <th>3</th>\n",
       "      <td>ME03</td>\n",
       "    </tr>\n",
       "    <tr>\n",
       "      <th>4</th>\n",
       "      <td>ALP1</td>\n",
       "    </tr>\n",
       "    <tr>\n",
       "      <th>5</th>\n",
       "      <td>BFD1</td>\n",
       "    </tr>\n",
       "    <tr>\n",
       "      <th>6</th>\n",
       "      <td>ME02</td>\n",
       "    </tr>\n",
       "    <tr>\n",
       "      <th>7</th>\n",
       "      <td>NAT1</td>\n",
       "    </tr>\n",
       "    <tr>\n",
       "      <th>8</th>\n",
       "      <td>WCD1</td>\n",
       "    </tr>\n",
       "    <tr>\n",
       "      <th>9</th>\n",
       "      <td>SDH1</td>\n",
       "    </tr>\n",
       "    <tr>\n",
       "      <th>10</th>\n",
       "      <td>ALP2</td>\n",
       "    </tr>\n",
       "    <tr>\n",
       "      <th>11</th>\n",
       "      <td>CRS3</td>\n",
       "    </tr>\n",
       "    <tr>\n",
       "      <th>12</th>\n",
       "      <td>CMH1</td>\n",
       "    </tr>\n",
       "    <tr>\n",
       "      <th>15</th>\n",
       "      <td>CRS2</td>\n",
       "    </tr>\n",
       "    <tr>\n",
       "      <th>16</th>\n",
       "      <td>VVW1</td>\n",
       "    </tr>\n",
       "    <tr>\n",
       "      <th>17</th>\n",
       "      <td>CRS1</td>\n",
       "    </tr>\n",
       "    <tr>\n",
       "      <th>18</th>\n",
       "      <td>VVW2</td>\n",
       "    </tr>\n",
       "    <tr>\n",
       "      <th>19</th>\n",
       "      <td>HRV1</td>\n",
       "    </tr>\n",
       "    <tr>\n",
       "      <th>21</th>\n",
       "      <td>CAL1</td>\n",
       "    </tr>\n",
       "    <tr>\n",
       "      <th>24</th>\n",
       "      <td>EC01</td>\n",
       "    </tr>\n",
       "    <tr>\n",
       "      <th>59</th>\n",
       "      <td>NPC2</td>\n",
       "    </tr>\n",
       "    <tr>\n",
       "      <th>60</th>\n",
       "      <td>NPC3</td>\n",
       "    </tr>\n",
       "    <tr>\n",
       "      <th>64</th>\n",
       "      <td>BR4</td>\n",
       "    </tr>\n",
       "  </tbody>\n",
       "</table>\n",
       "</div>"
      ],
      "text/plain": [
       "   asset_ID\n",
       "0      BHL1\n",
       "1      COD1\n",
       "2      ME04\n",
       "3      ME03\n",
       "4      ALP1\n",
       "5      BFD1\n",
       "6      ME02\n",
       "7      NAT1\n",
       "8      WCD1\n",
       "9      SDH1\n",
       "10     ALP2\n",
       "11     CRS3\n",
       "12     CMH1\n",
       "15     CRS2\n",
       "16     VVW1\n",
       "17     CRS1\n",
       "18     VVW2\n",
       "19     HRV1\n",
       "21     CAL1\n",
       "24     EC01\n",
       "59     NPC2\n",
       "60     NPC3\n",
       "64      BR4"
      ]
     },
     "metadata": {},
     "output_type": "display_data"
    },
    {
     "name": "stdout",
     "output_type": "stream",
     "text": [
      "\n",
      "\n",
      "Cluster 2\n"
     ]
    },
    {
     "data": {
      "text/html": [
       "<div>\n",
       "<style scoped>\n",
       "    .dataframe tbody tr th:only-of-type {\n",
       "        vertical-align: middle;\n",
       "    }\n",
       "\n",
       "    .dataframe tbody tr th {\n",
       "        vertical-align: top;\n",
       "    }\n",
       "\n",
       "    .dataframe thead th {\n",
       "        text-align: right;\n",
       "    }\n",
       "</style>\n",
       "<table border=\"1\" class=\"dataframe\">\n",
       "  <thead>\n",
       "    <tr style=\"text-align: right;\">\n",
       "      <th></th>\n",
       "      <th>asset_ID</th>\n",
       "    </tr>\n",
       "  </thead>\n",
       "  <tbody>\n",
       "    <tr>\n",
       "      <th>13</th>\n",
       "      <td>BR5</td>\n",
       "    </tr>\n",
       "    <tr>\n",
       "      <th>14</th>\n",
       "      <td>JOF1</td>\n",
       "    </tr>\n",
       "    <tr>\n",
       "      <th>23</th>\n",
       "      <td>SH2</td>\n",
       "    </tr>\n",
       "    <tr>\n",
       "      <th>31</th>\n",
       "      <td>SD6</td>\n",
       "    </tr>\n",
       "    <tr>\n",
       "      <th>32</th>\n",
       "      <td>KH2</td>\n",
       "    </tr>\n",
       "  </tbody>\n",
       "</table>\n",
       "</div>"
      ],
      "text/plain": [
       "   asset_ID\n",
       "13      BR5\n",
       "14     JOF1\n",
       "23      SH2\n",
       "31      SD6\n",
       "32      KH2"
      ]
     },
     "metadata": {},
     "output_type": "display_data"
    },
    {
     "name": "stdout",
     "output_type": "stream",
     "text": [
      "\n",
      "\n",
      "Cluster 0\n"
     ]
    },
    {
     "data": {
      "text/html": [
       "<div>\n",
       "<style scoped>\n",
       "    .dataframe tbody tr th:only-of-type {\n",
       "        vertical-align: middle;\n",
       "    }\n",
       "\n",
       "    .dataframe tbody tr th {\n",
       "        vertical-align: top;\n",
       "    }\n",
       "\n",
       "    .dataframe thead th {\n",
       "        text-align: right;\n",
       "    }\n",
       "</style>\n",
       "<table border=\"1\" class=\"dataframe\">\n",
       "  <thead>\n",
       "    <tr style=\"text-align: right;\">\n",
       "      <th></th>\n",
       "      <th>asset_ID</th>\n",
       "    </tr>\n",
       "  </thead>\n",
       "  <tbody>\n",
       "    <tr>\n",
       "      <th>20</th>\n",
       "      <td>ENC2</td>\n",
       "    </tr>\n",
       "    <tr>\n",
       "      <th>22</th>\n",
       "      <td>PH1</td>\n",
       "    </tr>\n",
       "    <tr>\n",
       "      <th>25</th>\n",
       "      <td>EGC1</td>\n",
       "    </tr>\n",
       "    <tr>\n",
       "      <th>26</th>\n",
       "      <td>ALS1</td>\n",
       "    </tr>\n",
       "    <tr>\n",
       "      <th>27</th>\n",
       "      <td>SCL1</td>\n",
       "    </tr>\n",
       "    <tr>\n",
       "      <th>28</th>\n",
       "      <td>NPP1</td>\n",
       "    </tr>\n",
       "    <tr>\n",
       "      <th>29</th>\n",
       "      <td>ANC1</td>\n",
       "    </tr>\n",
       "    <tr>\n",
       "      <th>30</th>\n",
       "      <td>RB5</td>\n",
       "    </tr>\n",
       "    <tr>\n",
       "      <th>33</th>\n",
       "      <td>GEN6</td>\n",
       "    </tr>\n",
       "    <tr>\n",
       "      <th>34</th>\n",
       "      <td>DOWG</td>\n",
       "    </tr>\n",
       "    <tr>\n",
       "      <th>35</th>\n",
       "      <td>FH1</td>\n",
       "    </tr>\n",
       "    <tr>\n",
       "      <th>36</th>\n",
       "      <td>TC01</td>\n",
       "    </tr>\n",
       "    <tr>\n",
       "      <th>37</th>\n",
       "      <td>DRW1</td>\n",
       "    </tr>\n",
       "    <tr>\n",
       "      <th>38</th>\n",
       "      <td>MUL1</td>\n",
       "    </tr>\n",
       "    <tr>\n",
       "      <th>39</th>\n",
       "      <td>TLM2</td>\n",
       "    </tr>\n",
       "    <tr>\n",
       "      <th>40</th>\n",
       "      <td>UOC1</td>\n",
       "    </tr>\n",
       "    <tr>\n",
       "      <th>41</th>\n",
       "      <td>SCR1</td>\n",
       "    </tr>\n",
       "    <tr>\n",
       "      <th>42</th>\n",
       "      <td>SET1</td>\n",
       "    </tr>\n",
       "    <tr>\n",
       "      <th>43</th>\n",
       "      <td>MEG1</td>\n",
       "    </tr>\n",
       "    <tr>\n",
       "      <th>44</th>\n",
       "      <td>HMT1</td>\n",
       "    </tr>\n",
       "    <tr>\n",
       "      <th>45</th>\n",
       "      <td>RL1</td>\n",
       "    </tr>\n",
       "    <tr>\n",
       "      <th>46</th>\n",
       "      <td>TC02</td>\n",
       "    </tr>\n",
       "    <tr>\n",
       "      <th>47</th>\n",
       "      <td>IOR1</td>\n",
       "    </tr>\n",
       "    <tr>\n",
       "      <th>48</th>\n",
       "      <td>PR1</td>\n",
       "    </tr>\n",
       "    <tr>\n",
       "      <th>49</th>\n",
       "      <td>CL01</td>\n",
       "    </tr>\n",
       "    <tr>\n",
       "      <th>50</th>\n",
       "      <td>HRT1</td>\n",
       "    </tr>\n",
       "    <tr>\n",
       "      <th>51</th>\n",
       "      <td>NX01</td>\n",
       "    </tr>\n",
       "    <tr>\n",
       "      <th>52</th>\n",
       "      <td>IOR2</td>\n",
       "    </tr>\n",
       "    <tr>\n",
       "      <th>53</th>\n",
       "      <td>APS1</td>\n",
       "    </tr>\n",
       "    <tr>\n",
       "      <th>54</th>\n",
       "      <td>MKR1</td>\n",
       "    </tr>\n",
       "    <tr>\n",
       "      <th>55</th>\n",
       "      <td>NX02</td>\n",
       "    </tr>\n",
       "    <tr>\n",
       "      <th>56</th>\n",
       "      <td>MKRC</td>\n",
       "    </tr>\n",
       "    <tr>\n",
       "      <th>57</th>\n",
       "      <td>SCR5</td>\n",
       "    </tr>\n",
       "    <tr>\n",
       "      <th>58</th>\n",
       "      <td>SCR6</td>\n",
       "    </tr>\n",
       "    <tr>\n",
       "      <th>61</th>\n",
       "      <td>FNG1</td>\n",
       "    </tr>\n",
       "    <tr>\n",
       "      <th>62</th>\n",
       "      <td>BCRK</td>\n",
       "    </tr>\n",
       "    <tr>\n",
       "      <th>63</th>\n",
       "      <td>GEN5</td>\n",
       "    </tr>\n",
       "    <tr>\n",
       "      <th>65</th>\n",
       "      <td>EC04</td>\n",
       "    </tr>\n",
       "    <tr>\n",
       "      <th>66</th>\n",
       "      <td>KH3</td>\n",
       "    </tr>\n",
       "    <tr>\n",
       "      <th>67</th>\n",
       "      <td>CNR5</td>\n",
       "    </tr>\n",
       "  </tbody>\n",
       "</table>\n",
       "</div>"
      ],
      "text/plain": [
       "   asset_ID\n",
       "20     ENC2\n",
       "22      PH1\n",
       "25     EGC1\n",
       "26     ALS1\n",
       "27     SCL1\n",
       "28     NPP1\n",
       "29     ANC1\n",
       "30      RB5\n",
       "33     GEN6\n",
       "34     DOWG\n",
       "35      FH1\n",
       "36     TC01\n",
       "37     DRW1\n",
       "38     MUL1\n",
       "39     TLM2\n",
       "40     UOC1\n",
       "41     SCR1\n",
       "42     SET1\n",
       "43     MEG1\n",
       "44     HMT1\n",
       "45      RL1\n",
       "46     TC02\n",
       "47     IOR1\n",
       "48      PR1\n",
       "49     CL01\n",
       "50     HRT1\n",
       "51     NX01\n",
       "52     IOR2\n",
       "53     APS1\n",
       "54     MKR1\n",
       "55     NX02\n",
       "56     MKRC\n",
       "57     SCR5\n",
       "58     SCR6\n",
       "61     FNG1\n",
       "62     BCRK\n",
       "63     GEN5\n",
       "65     EC04\n",
       "66      KH3\n",
       "67     CNR5"
      ]
     },
     "metadata": {},
     "output_type": "display_data"
    },
    {
     "name": "stdout",
     "output_type": "stream",
     "text": [
      "\n",
      "\n"
     ]
    }
   ],
   "source": [
    "\n",
    "aggregate_choice = input('Would you like to aggregate the data before clustering? (Yes/No): ').lower()\n",
    "\n",
    "\n",
    "\n",
    "\n",
    "if aggregate_choice == 'yes':\n",
    "    aggregate_features_input = input('Enter the features you would like to cluster by separated by a space: ').split()\n",
    "    aggregate_data_df = aggregate_data(daily_master_df)\n",
    "    # add sum prefix to columns in aggregate_features\n",
    "    for i in range(len(aggregate_features_input)): \n",
    "        if aggregate_features_input[i] != 'dispatched' and aggregate_features_input[i] != 'flexible' and aggregate_features_input[i] != 'zero_offer_percent' and aggregate_features_input[i] != 'sum_dispatched_block_price' and aggregate_features_input[i] != 'sum_dispatched_block_size':\n",
    "            aggregate_features_input[i] = 'sum_' + aggregate_features_input[i]\n",
    "        elif aggregate_features_input[i] == 'dispatched' or aggregate_features_input[i] == 'flexible':\n",
    "            aggregate_features_input[i] = 'count_' + aggregate_features_input[i]\n",
    "        elif aggregate_features_input[i] == 'zero_offer_percent' or aggregate_features_input[i] == 'sum_dispatched_block_price' or aggregate_features_input[i] == 'sum_dispatched_block_size':\n",
    "            continue\n",
    "\n",
    "    # perform the elbow method\n",
    "    elbow_method(aggregate_data_df, aggregate_features_input)\n",
    "    # prompt the user for the optimal number of clusters as determined by the elbow method plot\n",
    "    optimal_clusters = int(input('Enter the optimal number of clusters: '))\n",
    "    # perform the kmeans clustering on the aggregated data\n",
    "    if len(aggregate_features_input) == 1:\n",
    "        print(\"Error! Cannot perform clustering with only one feature. Please enter at least two features.\")\n",
    "    if len(aggregate_features_input) == 2:\n",
    "        kmeans_cluster(aggregate_data_df, aggregate_features_input, optimal_clusters, aggregate_features_input, f'KMeans Clustering of {aggregate_features_input[0]} and {aggregate_features_input[1]}')\n",
    "        cluster_assets(aggregate_data_df)\n",
    "    if len(aggregate_features_input) == 3:\n",
    "        kmeans_cluster(aggregate_data_df, aggregate_features_input, optimal_clusters, aggregate_features_input, f'KMeans Clustering of {aggregate_features_input[0]}, {aggregate_features_input[1]} and {aggregate_features_input[2]}')\n",
    "        cluster_assets(aggregate_data_df)\n",
    "    if len(aggregate_features_input) > 3:\n",
    "        kmeans_cluster(aggregate_data_df, aggregate_features_input, optimal_clusters, aggregate_features_input, f'KMeans Clustering of Selected Features')\n",
    "        cluster_assets(aggregate_data_df)\n",
    "\n",
    "elif aggregate_choice == 'no':\n",
    "    # prompt the user for the features they would like to cluster by\n",
    "    features_input = input('Enter the features you would like to cluster by, separated by a space: ').split()\n",
    "\n",
    "    # perform the elbow method\n",
    "    elbow_method(daily_master_df, features_input)\n",
    "    \n",
    "    # prompt the user for the optimal number of clusters as determined by the elbow method plot\n",
    "    optimal_clusters = int(input('Enter the optimal number of clusters: '))    \n",
    "    if len(features_input) == 1:\n",
    "        print(\"Error! Cannot perform clustering with only one feature. Please enter at least two features.\")\n",
    "\n",
    "    if len(features_input) == 2:\n",
    "        kmeans_cluster(daily_master_df, features_input, optimal_clusters, features_input, f'KMeans Clustering of {features_input[0]} and {features_input[1]}')\n",
    "        \n",
    "    if len(features_input) == 3:\n",
    "        kmeans_cluster(daily_master_df, features_input, optimal_clusters, features_input, f'KMeans Clustering of {features_input[0]}, {features_input[1]}, and {features_input[2]}') \n",
    "\n",
    "    if len(features_input) > 3:\n",
    "        kmeans_cluster(daily_master_df, features_input, optimal_clusters, features_input, f'KMeans Clustering of Selected Features')\n",
    "\n",
    "else:\n",
    "    print('Invalid input. Please enter either \"Yes\" or \"No\".')\n",
    "\n"
   ]
  }
 ],
 "metadata": {
  "kernelspec": {
   "display_name": "Python 3 (ipykernel)",
   "language": "python",
   "name": "python3"
  },
  "language_info": {
   "codemirror_mode": {
    "name": "ipython",
    "version": 3
   },
   "file_extension": ".py",
   "mimetype": "text/x-python",
   "name": "python",
   "nbconvert_exporter": "python",
   "pygments_lexer": "ipython3",
   "version": "3.11.5"
  }
 },
 "nbformat": 4,
 "nbformat_minor": 2
}
